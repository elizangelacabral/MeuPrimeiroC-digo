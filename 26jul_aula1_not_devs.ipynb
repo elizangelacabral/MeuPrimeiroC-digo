{
  "nbformat": 4,
  "nbformat_minor": 0,
  "metadata": {
    "colab": {
      "name": "26jul-aula1-not-devs.ipynb",
      "private_outputs": true,
      "provenance": [],
      "collapsed_sections": [
        "0DRY2WKnnLtK",
        "tpogpzPNo2EE",
        "cnKABzBVo4ts",
        "ik-qT03Vpod_",
        "dvq2eVDnqbOi",
        "3CZLKFfaqnwh",
        "Y8EwQCZYqwry",
        "QEFvRFsPsAPT",
        "dynhUzXnsezG",
        "rE9CmtcDvgFH"
      ],
      "include_colab_link": true
    },
    "kernelspec": {
      "name": "python3",
      "display_name": "Python 3"
    },
    "language_info": {
      "name": "python"
    }
  },
  "cells": [
    {
      "cell_type": "markdown",
      "metadata": {
        "id": "view-in-github",
        "colab_type": "text"
      },
      "source": [
        "<a href=\"https://colab.research.google.com/github/elizangelacabral/MeuPrimeiroC-digo/blob/main/26jul_aula1_not_devs.ipynb\" target=\"_parent\"><img src=\"https://colab.research.google.com/assets/colab-badge.svg\" alt=\"Open In Colab\"/></a>"
      ]
    },
    {
      "cell_type": "markdown",
      "metadata": {
        "id": "0DRY2WKnnLtK"
      },
      "source": [
        "# Python: o básico para Data Science"
      ]
    },
    {
      "cell_type": "markdown",
      "metadata": {
        "id": "tpogpzPNo2EE"
      },
      "source": [
        "## Print/Input"
      ]
    },
    {
      "cell_type": "code",
      "metadata": {
        "id": "5u-34LUbo4Wr"
      },
      "source": [
        "print(\"Hello World!\")"
      ],
      "execution_count": null,
      "outputs": []
    },
    {
      "cell_type": "code",
      "metadata": {
        "id": "w7ZCU4e-pOId"
      },
      "source": [
        "x = input(\"Qual é o seu nome? \")\n",
        "print(f\"Olá, {x}\")"
      ],
      "execution_count": null,
      "outputs": []
    },
    {
      "cell_type": "markdown",
      "metadata": {
        "id": "cnKABzBVo4ts"
      },
      "source": [
        "## Tipos de Dados"
      ]
    },
    {
      "cell_type": "code",
      "metadata": {
        "id": "zBgnAZVspSD8"
      },
      "source": [
        "#String (str)\n",
        "string = 'Oi, eu sou uma string'\n",
        "print(type(string))"
      ],
      "execution_count": null,
      "outputs": []
    },
    {
      "cell_type": "code",
      "metadata": {
        "id": "g-55l43VpU1N"
      },
      "source": [
        "# Inteiro(int)\n",
        "y = 3\n",
        "print(type(y))"
      ],
      "execution_count": null,
      "outputs": []
    },
    {
      "cell_type": "code",
      "metadata": {
        "id": "LTAFDspupZ8N"
      },
      "source": [
        "# Flutuantes (float)\n",
        "z = 1.6\n",
        "print(type(z))"
      ],
      "execution_count": null,
      "outputs": []
    },
    {
      "cell_type": "markdown",
      "metadata": {
        "id": "oFJtFaDAh4cV"
      },
      "source": [
        "## Estruturas de Dados"
      ]
    },
    {
      "cell_type": "code",
      "metadata": {
        "id": "JpU_nPmdpbzi"
      },
      "source": [
        "# Lista(list)\n",
        "a = ['texto', 3, 4.8]\n",
        "print(type(a))"
      ],
      "execution_count": null,
      "outputs": []
    },
    {
      "cell_type": "code",
      "metadata": {
        "id": "qvMLnbBBpehp"
      },
      "source": [
        "# Tupla(tuple)\n",
        "b = (1, 'texto', 4.1)\n",
        "print(type(b))"
      ],
      "execution_count": null,
      "outputs": []
    },
    {
      "cell_type": "code",
      "metadata": {
        "id": "GCzptYbwpicM"
      },
      "source": [
        "# Dicionário(dict)\n",
        "c = {'nome':'José','idade': 20}\n",
        "print(type(c))"
      ],
      "execution_count": null,
      "outputs": []
    },
    {
      "cell_type": "code",
      "metadata": {
        "id": "C92vBw7lpk18"
      },
      "source": [
        "# Conjunto(set)\n",
        "d = {'paulo','ricardo','ana'}\n",
        "print(type(d))"
      ],
      "execution_count": null,
      "outputs": []
    },
    {
      "cell_type": "code",
      "metadata": {
        "id": "aBvx75yticip"
      },
      "source": [
        "d = {'ana', 'ana'}\n",
        "print(d)"
      ],
      "execution_count": null,
      "outputs": []
    },
    {
      "cell_type": "code",
      "metadata": {
        "id": "IK_BCMAPpmdV"
      },
      "source": [
        "# Booleano(bool)\n",
        "e = True\n",
        "print(type(e))"
      ],
      "execution_count": null,
      "outputs": []
    },
    {
      "cell_type": "markdown",
      "metadata": {
        "id": "ik-qT03Vpod_"
      },
      "source": [
        "## Operadores\n",
        ">Operador Lógico | Significado\n",
        ">--- | ---\n",
        ">> | Maior que\n",
        ">< | Menor que\n",
        ">== | Igual a\n",
        ">>= | Maior ou igual a\n",
        "><= | Menor ou igual a\n",
        ">!= | Diferente de"
      ]
    },
    {
      "cell_type": "code",
      "metadata": {
        "id": "Y0izMU4Lpx1R"
      },
      "source": [
        "# Adição\n",
        "5+1"
      ],
      "execution_count": null,
      "outputs": []
    },
    {
      "cell_type": "code",
      "metadata": {
        "id": "Rik0Z41Fpznp"
      },
      "source": [
        "'Oi,'+' me chamo Antônio!'"
      ],
      "execution_count": null,
      "outputs": []
    },
    {
      "cell_type": "code",
      "metadata": {
        "id": "ie5qqKg5p1od"
      },
      "source": [
        "3.4 + 4"
      ],
      "execution_count": null,
      "outputs": []
    },
    {
      "cell_type": "code",
      "metadata": {
        "id": "L6HjJO99p4bF"
      },
      "source": [
        "# Subtração\n",
        "5-1"
      ],
      "execution_count": null,
      "outputs": []
    },
    {
      "cell_type": "code",
      "metadata": {
        "id": "W2AeOLDxp6Iq"
      },
      "source": [
        "3.4-3"
      ],
      "execution_count": null,
      "outputs": []
    },
    {
      "cell_type": "code",
      "metadata": {
        "id": "PTWgTNaRqH0C"
      },
      "source": [
        "'Oi, me chamo Antônio!' - 'Antônio'"
      ],
      "execution_count": null,
      "outputs": []
    },
    {
      "cell_type": "code",
      "metadata": {
        "id": "AbsbYuuvqJrn"
      },
      "source": [
        "# Multiplicação\n",
        "3*3"
      ],
      "execution_count": null,
      "outputs": []
    },
    {
      "cell_type": "code",
      "metadata": {
        "id": "nM2SUHyNqMcn"
      },
      "source": [
        "3.4*3"
      ],
      "execution_count": null,
      "outputs": []
    },
    {
      "cell_type": "code",
      "metadata": {
        "id": "bWBz2_XJqN7V"
      },
      "source": [
        "'*****'*10"
      ],
      "execution_count": null,
      "outputs": []
    },
    {
      "cell_type": "code",
      "metadata": {
        "id": "K9JweYSRqPxv"
      },
      "source": [
        "# Exponenciação\n",
        "3**2"
      ],
      "execution_count": null,
      "outputs": []
    },
    {
      "cell_type": "code",
      "metadata": {
        "id": "XkXzc-c5qR7k"
      },
      "source": [
        "3**3"
      ],
      "execution_count": null,
      "outputs": []
    },
    {
      "cell_type": "code",
      "metadata": {
        "id": "paBLUVSMqU_H"
      },
      "source": [
        "# Divisão\n",
        "10/2"
      ],
      "execution_count": null,
      "outputs": []
    },
    {
      "cell_type": "code",
      "metadata": {
        "id": "DWJ4WGZBqV7L"
      },
      "source": [
        "10/3"
      ],
      "execution_count": null,
      "outputs": []
    },
    {
      "cell_type": "code",
      "metadata": {
        "id": "pa6RUVPMqXVm"
      },
      "source": [
        "# Parte inteira da divisão\n",
        "10//3"
      ],
      "execution_count": null,
      "outputs": []
    },
    {
      "cell_type": "code",
      "metadata": {
        "id": "27O3zqJJqXZN"
      },
      "source": [
        "# Resto da divisão(módulo)\n",
        "10%3"
      ],
      "execution_count": null,
      "outputs": []
    },
    {
      "cell_type": "markdown",
      "metadata": {
        "id": "dvq2eVDnqbOi"
      },
      "source": [
        "## Condicionais"
      ]
    },
    {
      "cell_type": "code",
      "metadata": {
        "id": "VsjBJKZZqdDJ"
      },
      "source": [
        "# IF / ELSE\n",
        "if 1 > 0:\n",
        "  print('1 é maior que 0')\n",
        "else:\n",
        "  print('0 é maior que 1')"
      ],
      "execution_count": null,
      "outputs": []
    },
    {
      "cell_type": "code",
      "metadata": {
        "id": "s_9UV3dAqg92"
      },
      "source": [
        "# IF, ELIF e ELSE\n",
        "if 1 < 0:\n",
        "  print('1 é menor que 0')\n",
        "elif 0 == 0:\n",
        "  print('0 e 0 são iguais')\n",
        "else:\n",
        "  print('0 é maior que 1')"
      ],
      "execution_count": null,
      "outputs": []
    },
    {
      "cell_type": "code",
      "metadata": {
        "id": "XESNDrumqjLS"
      },
      "source": [
        "# WHILE\n",
        "x = 0\n",
        "while x < 10:\n",
        "  print(f\"x vale {x}\")\n",
        "  x = x + 1"
      ],
      "execution_count": null,
      "outputs": []
    },
    {
      "cell_type": "markdown",
      "metadata": {
        "id": "3CZLKFfaqnwh"
      },
      "source": [
        "## Laços de Repetição"
      ]
    },
    {
      "cell_type": "code",
      "metadata": {
        "id": "CyGbmIP5qqo0"
      },
      "source": [
        "# FOR\n",
        "frase = \"Olá, o nome de nossa chatbot será: Ananda!\"\n",
        "for x in frase:\n",
        "  print(x)"
      ],
      "execution_count": null,
      "outputs": []
    },
    {
      "cell_type": "code",
      "metadata": {
        "id": "qv4mBudNqq2a"
      },
      "source": [
        "# FOR / RANGE\n",
        "for _ in range(0,102,2):\n",
        "  print(_)"
      ],
      "execution_count": null,
      "outputs": []
    },
    {
      "cell_type": "markdown",
      "metadata": {
        "id": "Y8EwQCZYqwry"
      },
      "source": [
        "## Métodos e Funções"
      ]
    },
    {
      "cell_type": "code",
      "metadata": {
        "id": "-ZdkCuQGrsSQ"
      },
      "source": [
        "# Funções\n",
        "def raiz_quadrada(x):\n",
        "  return x**2"
      ],
      "execution_count": null,
      "outputs": []
    },
    {
      "cell_type": "code",
      "metadata": {
        "id": "qMOQcx9Ar0pV"
      },
      "source": [
        "raiz_quadrada(4)"
      ],
      "execution_count": null,
      "outputs": []
    },
    {
      "cell_type": "code",
      "metadata": {
        "id": "LKBS-pZQr3Jy"
      },
      "source": [
        "# Métodos (ligados a uma classe)\n",
        "# \"Os métodos são definidos dentro de uma definição de classe para tornar clara a relação entre a classe e o método.\"\n",
        "frase = \"Oi, me chamo Antônio!\"\n",
        "print(frase.upper())"
      ],
      "execution_count": null,
      "outputs": []
    },
    {
      "cell_type": "markdown",
      "metadata": {
        "id": "QEFvRFsPsAPT"
      },
      "source": [
        "## Try/Except"
      ]
    },
    {
      "cell_type": "code",
      "metadata": {
        "id": "PtGeirP8sC3l"
      },
      "source": [
        "try:\n",
        "  'Oi, bem vindo(a) a Qoda!'/2\n",
        "except:\n",
        "  print(\"Deu erro...\")"
      ],
      "execution_count": null,
      "outputs": []
    },
    {
      "cell_type": "code",
      "metadata": {
        "id": "7uPV_OInsHNQ"
      },
      "source": [
        "try:\n",
        "  'Oi, bem vindo(a) a Qoda!'/2\n",
        "except Exception as e:\n",
        "  print(f\"Aconteceu o seguinte: {e}\\ne por isto encerrei o código.\")"
      ],
      "execution_count": null,
      "outputs": []
    },
    {
      "cell_type": "markdown",
      "metadata": {
        "id": "dynhUzXnsezG"
      },
      "source": [
        "Exercícios extras\n",
        "---\n",
        "*   Python Brasil em https://wiki.python.org.br/ListaDeExercicios\n",
        "*   Gustavo Guanabara em https://www.youtube.com/playlist?list=PLHz_AreHm4dm6wYOIW20Nyg12TAjmMGT-\n",
        "\n",
        "\n"
      ]
    },
    {
      "cell_type": "markdown",
      "metadata": {
        "id": "rE9CmtcDvgFH"
      },
      "source": [
        "# PROJETO HANGMAN"
      ]
    },
    {
      "cell_type": "code",
      "metadata": {
        "id": "k5NLAoPWso5s"
      },
      "source": [
        "import random\n",
        "\n",
        "def get_word():\n",
        "  lista_palavras = ['gata', 'cão', 'lagarto', 'centopéia', 'boi']\n",
        "  word = random.choice(lista_palavras)\n",
        "  return word.upper()"
      ],
      "execution_count": null,
      "outputs": []
    },
    {
      "cell_type": "code",
      "metadata": {
        "id": "S8VKhkOwvkBm"
      },
      "source": [
        "def play(word):\n",
        "    word_completion = \"_\" * len(word) \n",
        "    guessed = False\n",
        "    guessed_letters = []\n",
        "    guessed_words = []\n",
        "    tries = 6\n",
        "    print(f\"JOGO DA FORCA!\\nDica: {len(word)} letras!\")\n",
        "    print(display_hangman(tries))\n",
        "    print(word_completion)\n",
        "    print(\"\\n\")\n",
        "    \n",
        "    while not guessed and tries > 0:\n",
        "        guess = input(\"Adivinhe uma letra ou palavra: \").upper()\n",
        "        if len(guess) == 1 and guess.isalpha():\n",
        "            if guess in guessed_letters:\n",
        "                print(\"Você já tentou \", guess)\n",
        "            elif guess not in word:\n",
        "                print(guess, \"Não.\")\n",
        "                tries -= 1\n",
        "                guessed_letters.append(guess)\n",
        "            else:\n",
        "                print(guess, \"está na palavra!\")\n",
        "                guessed_letters.append(guess)\n",
        "                word_as_list = list(word_completion)\n",
        "                indices = [i for i, letter in enumerate(word) if letter == guess]\n",
        "                for index in indices:\n",
        "                    word_as_list[index] = guess\n",
        "                word_completion = \"\".join(word_as_list)\n",
        "                if \"_\" not in word_completion:\n",
        "                    guessed = True\n",
        "        elif len(guess) == len(word) and guess.isalpha():\n",
        "            if guess in guessed_words:\n",
        "                print(\"Você já tentou a palavra\", guess)\n",
        "            elif guess != word:\n",
        "                print(guess, \"não é a palavra.\")\n",
        "                tries -= 1\n",
        "                guessed_words.append(guess)\n",
        "            else:\n",
        "                guessed = True\n",
        "                word_completion = word\n",
        "        else:\n",
        "            print(\"Inválido.\")\n",
        "        print(display_hangman(tries))\n",
        "        print(word_completion)\n",
        "        print(\"\\n\")\n",
        "    if guessed:\n",
        "        print(\"Parabéns, você adivinhou a palavra! Você venceu!\")\n",
        "    else:\n",
        "        print(\"Você perdeu!. A palavra era \" + word + \".\")"
      ],
      "execution_count": null,
      "outputs": []
    },
    {
      "cell_type": "code",
      "metadata": {
        "id": "rs1zZZeuvl_k"
      },
      "source": [
        "def display_hangman(tries):\n",
        "    stages = [  # cabeça, tronco e braços e pernas: morte.\n",
        "                \"\"\"\n",
        "                   --------\n",
        "                   |      |\n",
        "                   |      O\n",
        "                   |     \\|/\n",
        "                   |      |\n",
        "                   |     / \\\n",
        "                   -\n",
        "                \"\"\",\n",
        "                # cabeça, tronco e braços, perna\n",
        "                \"\"\"\n",
        "                   --------\n",
        "                   |      |\n",
        "                   |      O\n",
        "                   |     \\|/\n",
        "                   |      |\n",
        "                   |     / \n",
        "                   -\n",
        "                \"\"\",\n",
        "                # cabeça, tronco e braços\n",
        "                \"\"\"\n",
        "                   --------\n",
        "                   |      |\n",
        "                   |      O\n",
        "                   |     \\|/\n",
        "                   |      |\n",
        "                   |      \n",
        "                   -\n",
        "                \"\"\",\n",
        "                # cabeça, tronco e braço\n",
        "                \"\"\"\n",
        "                   --------\n",
        "                   |      |\n",
        "                   |      O\n",
        "                   |     \\|\n",
        "                   |      |\n",
        "                   |     \n",
        "                   -\n",
        "                \"\"\",\n",
        "                # cabeça e tronco\n",
        "                \"\"\"\n",
        "                   --------\n",
        "                   |      |\n",
        "                   |      O\n",
        "                   |      |\n",
        "                   |      |\n",
        "                   |     \n",
        "                   -\n",
        "                \"\"\",\n",
        "                # cabeça\n",
        "                \"\"\"\n",
        "                   --------\n",
        "                   |      |\n",
        "                   |      O\n",
        "                   |    \n",
        "                   |      \n",
        "                   |     \n",
        "                   -\n",
        "                \"\"\",\n",
        "                # vazio\n",
        "                \"\"\"\n",
        "                   --------\n",
        "                   |      |\n",
        "                   |      \n",
        "                   |    \n",
        "                   |      \n",
        "                   |     \n",
        "                   -\n",
        "                \"\"\"\n",
        "    ]\n",
        "    return stages[tries]"
      ],
      "execution_count": null,
      "outputs": []
    },
    {
      "cell_type": "code",
      "metadata": {
        "id": "kBWP23IQvnxd"
      },
      "source": [
        "def main():\n",
        "    word = get_word()\n",
        "    play(word)\n",
        "    while input(\"Jogar de novo? (S/N) \").upper() == \"S\":\n",
        "        word = get_word()\n",
        "        play(word)\n",
        "\n",
        "\n",
        "if __name__ == \"__main__\":\n",
        "    main()"
      ],
      "execution_count": null,
      "outputs": []
    },
    {
      "cell_type": "markdown",
      "metadata": {
        "id": "fNKRhuMPRnVw"
      },
      "source": [
        "#Análise de Dados: overview"
      ]
    },
    {
      "cell_type": "markdown",
      "metadata": {
        "id": "UnfrWJ5ofcc9"
      },
      "source": [
        "![](https://i.insider.com/5d96339951823d242064b4ab?width=1136&format=jpeg)"
      ]
    },
    {
      "cell_type": "markdown",
      "metadata": {
        "id": "jqbtrmGIggzC"
      },
      "source": [
        "## Matemática básica com Python\n",
        "\n",
        "---\n",
        "A vida fora da cidade é diferente. Os custos das coisas do dia a dia também são diferentes. Elon fez uma viagem ao mercadinho na cidade próxima para estocar o essencial para as próximas semanas. Mas os preços aqui com certeza são diferentes dos da cidade! Elon precisa começar a prestar mais atenção às finanças se quiserem se sair bem aqui. Você pode ajudá-lo a descobrir quanto vai custar sua compra de mantimentos?\n",
        "\n",
        "\n",
        "---\n",
        "\n",
        "\n"
      ]
    },
    {
      "cell_type": "markdown",
      "metadata": {
        "id": "ij9lLEHqhyF5"
      },
      "source": [
        "### Desafio \n",
        "Elon tem algumas listas que você pode usar como referência: a lista de compras, os preços que pagavam na cidade e os preços do dono do mercadinho. \n",
        "<br><br>\n",
        "Qual é a diferença de preço entre alimentos na cidade e alimentos no país, como uma porcentagem dos preços do país inteiro? "
      ]
    },
    {
      "cell_type": "code",
      "metadata": {
        "id": "-cFJJVA_h7Lq"
      },
      "source": [
        "# Lista de compras (19 items)\n",
        "grocery_list = ['Pão', 'Geléia', 'Leite', 'Azeite', 'Bananas', 'Café',\n",
        "                'Chocolate', 'Brocolis', 'Ovos', 'Doritos', 'Lentilha', 'Tomates',\n",
        "                'Arroz', 'Chantilly', 'Iogurte', 'Morango', 'cebola', 'Vinho', 'Preservativos']\n",
        "\n",
        "# Preços da cidade\n",
        "city_price = [6.49, 4.99, 4.39, 4.29, 11.99, 17.99,          \n",
        "              3.49, 3.99, 1.10, 1.99, 2.99, 4.68,            \n",
        "              1.59, 8.99, 3.49, 6.99, 2.99, 1.98, 14.99]\n",
        "\n",
        "# Preços do país\n",
        "country_price = [4.49, 4.12, 3.42, 6.99, 7.99, 14.99,              \n",
        "                2.99, 2.49, 0.99, 1.49, 2.49, 1.99,              \n",
        "                1.59, 6.99, 3.89, 4.99, 1.69, 1.87, 11.49]"
      ],
      "execution_count": null,
      "outputs": []
    },
    {
      "cell_type": "markdown",
      "metadata": {
        "id": "0ONa7z-Oif-y"
      },
      "source": [
        "### Solução"
      ]
    },
    {
      "cell_type": "code",
      "metadata": {
        "id": "1kf3DpH_ii2Z"
      },
      "source": [
        "# Usamos o sum() para somar todos os preços cidade\n",
        "t_c = sum(city_price)\n",
        "t_c"
      ],
      "execution_count": null,
      "outputs": []
    },
    {
      "cell_type": "code",
      "metadata": {
        "id": "gfBqI7t12Pv6"
      },
      "source": [
        "# Usamos o sum() para somar todos os preços país\n",
        "t_ct = sum(country_price) \n",
        "t_ct"
      ],
      "execution_count": null,
      "outputs": []
    },
    {
      "cell_type": "code",
      "metadata": {
        "id": "uT2Awh1i2REf"
      },
      "source": [
        "# variável para calcular a porcentagem\n",
        "diff = (t_c - t_ct)/ t_ct"
      ],
      "execution_count": null,
      "outputs": []
    },
    {
      "cell_type": "code",
      "metadata": {
        "id": "AkSwYsd12Sxg"
      },
      "source": [
        "# Printamos o resultado arredondando os valores em 2 posições pós-virgula\n",
        "print(round(diff,2))"
      ],
      "execution_count": null,
      "outputs": []
    },
    {
      "cell_type": "markdown",
      "metadata": {
        "id": "jF7mMoRVj8Pv"
      },
      "source": [
        "![](https://i.insider.com/5d10a8a597ad7650f7026ef2?width=1136&format=jpeg)"
      ]
    },
    {
      "cell_type": "markdown",
      "metadata": {
        "id": "9c34UEw4g4j7"
      },
      "source": [
        "## 1. Demonstração dos principais métodos do Pandas\n",
        "\n",
        "Pandas é uma biblioteca Python que fornece meios abrangentes para análise de dados. Os cientistas de dados costumam trabalhar com dados armazenados em formatos de tabela como .csv e .xlsx. O Pandas torna muito conveniente carregar, processar e analisar esses dados tabulares usando consultas semelhantes a SQL. Em conjunto com Matplotlib e Seaborn, o Pandas oferece uma ampla gama de oportunidades para análise visual de dados tabulares.\n",
        "\n",
        "As principais estruturas de dados no Pandas são implementadas com as classes Series(1d) e DataFrame(2d). \n",
        "\n",
        "![](https://www.kdnuggets.com/wp-content/uploads/pandas-02.png)\n",
        "\n",
        "DataFrames são ótimos para representar dados reais: as linhas correspondem às instâncias (exemplos, observações, etc.) e as colunas correspondem aos recursos dessas instâncias."
      ]
    },
    {
      "cell_type": "code",
      "metadata": {
        "id": "sq5M5IuliFJV"
      },
      "source": [
        "import numpy as np\n",
        "import pandas as pd\n",
        "\n",
        "pd.set_option(\"display.precision\", 2)"
      ],
      "execution_count": null,
      "outputs": []
    },
    {
      "cell_type": "markdown",
      "metadata": {
        "id": "Wrf-RtqUiNJs"
      },
      "source": [
        "Vamos demonstrar os principais métodos em ação, analisando um conjunto de dados sobre a taxa de rotatividade dos clientes das operadoras de telecomunicações. Vamos ler os dados (usando read_csv) e dar uma olhada nas primeiras 5 linhas usando o método head:\n"
      ]
    },
    {
      "cell_type": "code",
      "metadata": {
        "id": "9PE40m65iMpU"
      },
      "source": [
        "df = pd.read_csv(\"https://raw.githubusercontent.com/Yorko/mlcourse.ai/master/data/telecom_churn.csv\")\n",
        "df.head()"
      ],
      "execution_count": null,
      "outputs": []
    },
    {
      "cell_type": "markdown",
      "metadata": {
        "id": "pM3PHqy_jAaM"
      },
      "source": [
        "Lembre-se de que cada linha corresponde a um cliente, uma instância, e as colunas são recursos desta instância. \n",
        "\n",
        "Vamos dar uma olhada na dimensionalidade dos dados, nomes e tipos de recursos.\n"
      ]
    },
    {
      "cell_type": "code",
      "metadata": {
        "id": "evmssudGi_Fg"
      },
      "source": [
        "print(df.shape)"
      ],
      "execution_count": null,
      "outputs": []
    },
    {
      "cell_type": "markdown",
      "metadata": {
        "id": "naGRNW7ajd0x"
      },
      "source": [
        "Podemos ver que a tabela contém 3.333 linhas e 20 colunas. Agora, vamos tentar imprimir os nomes das colunas usando columns:"
      ]
    },
    {
      "cell_type": "code",
      "metadata": {
        "id": "PcEwlF32jlD1"
      },
      "source": [
        "print(df.columns)"
      ],
      "execution_count": null,
      "outputs": []
    },
    {
      "cell_type": "markdown",
      "metadata": {
        "id": "SH9KaG-fj9tE"
      },
      "source": [
        "Podemos usar o método info() para gerar algumas informações gerais sobre o dataframe:"
      ]
    },
    {
      "cell_type": "code",
      "metadata": {
        "id": "cG976itwj84A"
      },
      "source": [
        "df.info()"
      ],
      "execution_count": null,
      "outputs": []
    },
    {
      "cell_type": "markdown",
      "metadata": {
        "id": "B0ymfxcckKJN"
      },
      "source": [
        "bool, int64, float64 e object são tipos de dados das nossas features/recursos. É perceptível que 1 feature é booleana(bool), 3 features são do tipo object(strings), e 16 features são numéricas. Com esse mesmo método, podemos ver facilmente se há algum valor ausente. Aqui, não há nenhum porque cada coluna contém 3333 observações, o mesmo número de linhas que vimos antes com .shape(). Podemos mudar o tipo de coluna com o método astype. Vamos aplicar este método ao recurso Churn para convertê-lo em int64:\n"
      ]
    },
    {
      "cell_type": "code",
      "metadata": {
        "id": "YElryyPMkKWf"
      },
      "source": [
        "df[\"Churn\"] = df[\"Churn\"].astype(\"int64\")"
      ],
      "execution_count": null,
      "outputs": []
    },
    {
      "cell_type": "markdown",
      "metadata": {
        "id": "3lFMa80alBXv"
      },
      "source": [
        "O método describe() mostra as características estatísticas básicas de cada feature numérica (tipos int64 e float64): número de valores non-null, média, desvio padrão, intervalo, mediana e quartis."
      ]
    },
    {
      "cell_type": "code",
      "metadata": {
        "id": "optaAmAIlh7Y"
      },
      "source": [
        "df.describe()"
      ],
      "execution_count": null,
      "outputs": []
    },
    {
      "cell_type": "markdown",
      "metadata": {
        "id": "HhsQhSdSluIT"
      },
      "source": [
        "Para ver estatísticas sobre recursos não numéricos, é necessário indicar explicitamente os tipos de dados de interesse no parâmetro include()"
      ]
    },
    {
      "cell_type": "code",
      "metadata": {
        "id": "7gwVSmUvl2BG"
      },
      "source": [
        "df.describe(include=[\"object\", \"bool\"])"
      ],
      "execution_count": null,
      "outputs": []
    },
    {
      "cell_type": "markdown",
      "metadata": {
        "id": "QXfskDUqmHqc"
      },
      "source": [
        "Para recursos categóricos (object) e booleanos (tipo bool), podemos usar o método value_counts. Vamos dar uma olhada na distribuição do Churn:"
      ]
    },
    {
      "cell_type": "code",
      "metadata": {
        "id": "FI8JUHMUmL8k"
      },
      "source": [
        "df[\"Churn\"].value_counts()"
      ],
      "execution_count": null,
      "outputs": []
    },
    {
      "cell_type": "markdown",
      "metadata": {
        "id": "u2nmbSIPmqOg"
      },
      "source": [
        "2850 de 3333 são leais; seu Churn é 0. Podemos receber frações disto com o parâmetro normalize=True"
      ]
    },
    {
      "cell_type": "code",
      "metadata": {
        "id": "KkWw4msOm5kn"
      },
      "source": [
        "df[\"Churn\"].value_counts(normalize=True)"
      ],
      "execution_count": null,
      "outputs": []
    },
    {
      "cell_type": "code",
      "metadata": {
        "id": "CgZ_k_9kG_of"
      },
      "source": [
        "!jupyter nbconvert --to pdf aula1-not-devs.ipynb"
      ],
      "execution_count": null,
      "outputs": []
    }
  ]
}